{
  "nbformat": 4,
  "nbformat_minor": 0,
  "metadata": {
    "colab": {
      "provenance": []
    },
    "kernelspec": {
      "name": "python3",
      "display_name": "Python 3"
    },
    "language_info": {
      "name": "python"
    }
  },
  "cells": [
    {
      "cell_type": "code",
      "source": [
        "import pandas as pd\n",
        "import matplotlib.pyplot as plt  \n",
        "df = pd.read_csv(\"/content/MissingValuesDataSet.csv\")\n",
        "df= df.fillna(0)\n",
        "df.isnull().sum()"
      ],
      "metadata": {
        "colab": {
          "base_uri": "https://localhost:8080/"
        },
        "id": "3SpBmuQyx1Vw",
        "outputId": "bfb33918-2e45-43d5-af89-e48e4a456fe8"
      },
      "execution_count": null,
      "outputs": [
        {
          "output_type": "execute_result",
          "data": {
            "text/plain": [
              "Employees    0\n",
              "Products     0\n",
              "Clients      0\n",
              "Turnover     0\n",
              "Atrition     0\n",
              "Profit       0\n",
              "dtype: int64"
            ]
          },
          "metadata": {},
          "execution_count": 16
        }
      ]
    },
    {
      "cell_type": "code",
      "execution_count": null,
      "metadata": {
        "colab": {
          "base_uri": "https://localhost:8080/"
        },
        "id": "AaElGoZ0vgwJ",
        "outputId": "bc8d0e90-bfab-4ca0-949f-09702dc7176c"
      },
      "outputs": [
        {
          "output_type": "execute_result",
          "data": {
            "text/plain": [
              "Employees    0\n",
              "Products     0\n",
              "Clients      0\n",
              "Turnover     0\n",
              "Atrition     0\n",
              "Profit       6\n",
              "dtype: int64"
            ]
          },
          "metadata": {},
          "execution_count": 17
        }
      ],
      "source": [
        "import pandas as pd\n",
        "import matplotlib.pyplot as plt  \n",
        "df = pd.read_csv(\"/content/MissingValuesDataSet.csv\")\n",
        "df.isnull().sum()"
      ]
    },
    {
      "cell_type": "code",
      "source": [
        "import pandas as pd\n",
        "import matplotlib.pyplot as plt  \n",
        "df = pd.read_csv(\"/content/MissingValuesDataSet.csv\")\n",
        "df = df.dropna(axis=0)\n",
        "df.isnull().sum()"
      ],
      "metadata": {
        "colab": {
          "base_uri": "https://localhost:8080/"
        },
        "id": "OiGrynI3yBuD",
        "outputId": "211f19e3-896a-4f17-f855-769a2c648127"
      },
      "execution_count": null,
      "outputs": [
        {
          "output_type": "execute_result",
          "data": {
            "text/plain": [
              "Employees    0\n",
              "Products     0\n",
              "Clients      0\n",
              "Turnover     0\n",
              "Atrition     0\n",
              "Profit       0\n",
              "dtype: int64"
            ]
          },
          "metadata": {},
          "execution_count": 10
        }
      ]
    },
    {
      "cell_type": "code",
      "source": [
        "import pandas as pd\n",
        "import matplotlib.pyplot as plt  \n",
        "df = pd.read_csv(\"/content/MissingValuesDataSet.csv\")\n",
        "df['Profit'] = df['Profit'].fillna(df['Profit'].mean())\n",
        "df.isnull().sum()"
      ],
      "metadata": {
        "colab": {
          "base_uri": "https://localhost:8080/"
        },
        "id": "8OvI0HWF0ufi",
        "outputId": "5c18973d-fbe5-48ba-a217-479cd8f22f8c"
      },
      "execution_count": null,
      "outputs": [
        {
          "output_type": "execute_result",
          "data": {
            "text/plain": [
              "Employees    0\n",
              "Products     0\n",
              "Clients      0\n",
              "Turnover     0\n",
              "Atrition     0\n",
              "Profit       0\n",
              "dtype: int64"
            ]
          },
          "metadata": {},
          "execution_count": 15
        }
      ]
    }
  ]
}